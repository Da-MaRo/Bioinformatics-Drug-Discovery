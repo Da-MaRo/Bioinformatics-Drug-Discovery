{
  "cells": [
    {
      "cell_type": "markdown",
      "metadata": {
        "colab_type": "text",
        "id": "wSFbIMb87cHu"
      },
      "source": [
        "# **Computational Drug Discovery [Part 1] Download Bioactivity Data**\n",
        "\n",
        "Based on the work of Chanin Nantasenamat [*'Data Professor' YouTube channel*](http://youtube.com/dataprofessor)\n",
        "\n",
        "---"
      ]
    },
    {
      "cell_type": "markdown",
      "metadata": {
        "colab_type": "text",
        "id": "3iQiERxumDor"
      },
      "source": [
        "## **ChEMBL Database**\n",
        "\n",
        "The [*ChEMBL Database*](https://www.ebi.ac.uk/chembl/) is a database that contains curated bioactivity data of more than 2 million compounds. It is compiled from more than 76,000 documents, 1.2 million assays and the data spans 13,000 targets and 1,800 cells and 33,000 indications.\n",
        "[Data as of March 25, 2020; ChEMBL version 26]."
      ]
    },
    {
      "cell_type": "markdown",
      "metadata": {
        "colab_type": "text",
        "id": "iryGAwAIQ4yf"
      },
      "source": [
        "## **Installing libraries**"
      ]
    },
    {
      "cell_type": "markdown",
      "metadata": {
        "colab_type": "text",
        "id": "toGT1U_B7F2i"
      },
      "source": [
        "Install the ChEMBL web service package so that we can retrieve bioactivity data from the ChEMBL Database."
      ]
    },
    {
      "cell_type": "code",
      "execution_count": 1,
      "metadata": {
        "colab": {
          "base_uri": "https://localhost:8080/",
          "height": 349
        },
        "colab_type": "code",
        "id": "cJGExHQBfLh7",
        "outputId": "783c9cb5-c5d4-4545-a9d3-6c2a2f2b0e53"
      },
      "outputs": [
        {
          "name": "stdout",
          "output_type": "stream",
          "text": [
            "Requirement already satisfied: chembl_webresource_client in ./.venv/lib/python3.12/site-packages (0.10.8)\n",
            "Requirement already satisfied: urllib3 in ./.venv/lib/python3.12/site-packages (from chembl_webresource_client) (2.2.0)\n",
            "Requirement already satisfied: requests>=2.18.4 in ./.venv/lib/python3.12/site-packages (from chembl_webresource_client) (2.31.0)\n",
            "Requirement already satisfied: requests-cache~=0.7.0 in ./.venv/lib/python3.12/site-packages (from chembl_webresource_client) (0.7.5)\n",
            "Requirement already satisfied: easydict in ./.venv/lib/python3.12/site-packages (from chembl_webresource_client) (1.11)\n",
            "Requirement already satisfied: charset-normalizer<4,>=2 in ./.venv/lib/python3.12/site-packages (from requests>=2.18.4->chembl_webresource_client) (3.3.2)\n",
            "Requirement already satisfied: idna<4,>=2.5 in ./.venv/lib/python3.12/site-packages (from requests>=2.18.4->chembl_webresource_client) (3.6)\n",
            "Requirement already satisfied: certifi>=2017.4.17 in ./.venv/lib/python3.12/site-packages (from requests>=2.18.4->chembl_webresource_client) (2024.2.2)\n",
            "Requirement already satisfied: attrs<22.0,>=21.2 in ./.venv/lib/python3.12/site-packages (from requests-cache~=0.7.0->chembl_webresource_client) (21.4.0)\n",
            "Requirement already satisfied: itsdangerous>=2.0.1 in ./.venv/lib/python3.12/site-packages (from requests-cache~=0.7.0->chembl_webresource_client) (2.1.2)\n",
            "Requirement already satisfied: pyyaml>=5.4 in ./.venv/lib/python3.12/site-packages (from requests-cache~=0.7.0->chembl_webresource_client) (6.0.1)\n",
            "Requirement already satisfied: url-normalize<2.0,>=1.4 in ./.venv/lib/python3.12/site-packages (from requests-cache~=0.7.0->chembl_webresource_client) (1.4.3)\n",
            "Requirement already satisfied: six in ./.venv/lib/python3.12/site-packages (from url-normalize<2.0,>=1.4->requests-cache~=0.7.0->chembl_webresource_client) (1.16.0)\n"
          ]
        }
      ],
      "source": [
        "! pip install chembl_webresource_client"
      ]
    },
    {
      "cell_type": "markdown",
      "metadata": {
        "colab_type": "text",
        "id": "J0kJjL8gb5nX"
      },
      "source": [
        "## **Importing libraries**"
      ]
    },
    {
      "cell_type": "code",
      "execution_count": 2,
      "metadata": {
        "colab": {},
        "colab_type": "code",
        "id": "RXoCvMPPfNrv"
      },
      "outputs": [],
      "source": [
        "# Import necessary libraries\n",
        "import pandas as pd\n",
        "from chembl_webresource_client.new_client import new_client"
      ]
    },
    {
      "cell_type": "markdown",
      "metadata": {
        "colab_type": "text",
        "id": "1FgUai1bfigC"
      },
      "source": [
        "## **Search for Target protein**"
      ]
    },
    {
      "cell_type": "markdown",
      "metadata": {
        "colab_type": "text",
        "id": "7lBsDrD0gAqH"
      },
      "source": [
        "### **Target search for coronavirus**"
      ]
    },
    {
      "cell_type": "code",
      "execution_count": 69,
      "metadata": {
        "colab": {
          "base_uri": "https://localhost:8080/",
          "height": 145
        },
        "colab_type": "code",
        "id": "Vxtp79so4ZjF",
        "outputId": "e90dde45-1c0d-4fd9-f693-cb6e6032e2cd"
      },
      "outputs": [
        {
          "data": {
            "text/html": [
              "<div>\n",
              "<style scoped>\n",
              "    .dataframe tbody tr th:only-of-type {\n",
              "        vertical-align: middle;\n",
              "    }\n",
              "\n",
              "    .dataframe tbody tr th {\n",
              "        vertical-align: top;\n",
              "    }\n",
              "\n",
              "    .dataframe thead th {\n",
              "        text-align: right;\n",
              "    }\n",
              "</style>\n",
              "<table border=\"1\" class=\"dataframe\">\n",
              "  <thead>\n",
              "    <tr style=\"text-align: right;\">\n",
              "      <th></th>\n",
              "      <th>cross_references</th>\n",
              "      <th>organism</th>\n",
              "      <th>pref_name</th>\n",
              "      <th>score</th>\n",
              "      <th>species_group_flag</th>\n",
              "      <th>target_chembl_id</th>\n",
              "      <th>target_components</th>\n",
              "      <th>target_type</th>\n",
              "      <th>tax_id</th>\n",
              "    </tr>\n",
              "  </thead>\n",
              "  <tbody>\n",
              "    <tr>\n",
              "      <th>0</th>\n",
              "      <td>[]</td>\n",
              "      <td>Bos taurus</td>\n",
              "      <td>Heat shock cognate 71 kDa protein</td>\n",
              "      <td>15.0</td>\n",
              "      <td>False</td>\n",
              "      <td>CHEMBL1275213</td>\n",
              "      <td>[{'accession': 'P19120', 'component_descriptio...</td>\n",
              "      <td>SINGLE PROTEIN</td>\n",
              "      <td>9913</td>\n",
              "    </tr>\n",
              "    <tr>\n",
              "      <th>1</th>\n",
              "      <td>[]</td>\n",
              "      <td>Mus musculus</td>\n",
              "      <td>Heat shock cognate 71 kDa protein</td>\n",
              "      <td>15.0</td>\n",
              "      <td>False</td>\n",
              "      <td>CHEMBL5169139</td>\n",
              "      <td>[{'accession': 'P63017', 'component_descriptio...</td>\n",
              "      <td>SINGLE PROTEIN</td>\n",
              "      <td>10090</td>\n",
              "    </tr>\n",
              "    <tr>\n",
              "      <th>2</th>\n",
              "      <td>[{'xref_id': 'HSPA8', 'xref_name': None, 'xref...</td>\n",
              "      <td>Homo sapiens</td>\n",
              "      <td>Heat shock cognate 71 kDa protein</td>\n",
              "      <td>12.0</td>\n",
              "      <td>False</td>\n",
              "      <td>CHEMBL1275223</td>\n",
              "      <td>[{'accession': 'P11142', 'component_descriptio...</td>\n",
              "      <td>SINGLE PROTEIN</td>\n",
              "      <td>9606</td>\n",
              "    </tr>\n",
              "  </tbody>\n",
              "</table>\n",
              "</div>"
            ],
            "text/plain": [
              "                                    cross_references      organism  \\\n",
              "0                                                 []    Bos taurus   \n",
              "1                                                 []  Mus musculus   \n",
              "2  [{'xref_id': 'HSPA8', 'xref_name': None, 'xref...  Homo sapiens   \n",
              "\n",
              "                           pref_name  score  species_group_flag  \\\n",
              "0  Heat shock cognate 71 kDa protein   15.0               False   \n",
              "1  Heat shock cognate 71 kDa protein   15.0               False   \n",
              "2  Heat shock cognate 71 kDa protein   12.0               False   \n",
              "\n",
              "  target_chembl_id                                  target_components  \\\n",
              "0    CHEMBL1275213  [{'accession': 'P19120', 'component_descriptio...   \n",
              "1    CHEMBL5169139  [{'accession': 'P63017', 'component_descriptio...   \n",
              "2    CHEMBL1275223  [{'accession': 'P11142', 'component_descriptio...   \n",
              "\n",
              "      target_type  tax_id  \n",
              "0  SINGLE PROTEIN    9913  \n",
              "1  SINGLE PROTEIN   10090  \n",
              "2  SINGLE PROTEIN    9606  "
            ]
          },
          "execution_count": 69,
          "metadata": {},
          "output_type": "execute_result"
        }
      ],
      "source": [
        "# Target search for coronavirus\n",
        "target = new_client.target\n",
        "target_query = target.search('hspa8')\n",
        "targets = pd.DataFrame.from_dict(target_query)\n",
        "targets"
      ]
    },
    {
      "cell_type": "markdown",
      "metadata": {
        "colab_type": "text",
        "id": "Y5OPfEALjAfZ"
      },
      "source": [
        "### **Select and retrieve bioactivity data for *HSPA8 Homo Sapiens* (3rd entry)**"
      ]
    },
    {
      "cell_type": "code",
      "execution_count": 70,
      "metadata": {
        "colab": {
          "base_uri": "https://localhost:8080/",
          "height": 35
        },
        "colab_type": "code",
        "id": "StrcHMVLha7u",
        "outputId": "a558535b-c66a-42ce-8604-3cf34dbff90b"
      },
      "outputs": [
        {
          "data": {
            "text/plain": [
              "'CHEMBL1275223'"
            ]
          },
          "execution_count": 70,
          "metadata": {},
          "output_type": "execute_result"
        }
      ],
      "source": [
        "selected_target = targets.target_chembl_id[2]\n",
        "selected_target"
      ]
    },
    {
      "cell_type": "code",
      "execution_count": 71,
      "metadata": {
        "colab": {},
        "colab_type": "code",
        "id": "LeFbV_CsSP8D"
      },
      "outputs": [],
      "source": [
        "activity = new_client.activity\n",
        "res = activity.filter(target_chembl_id=selected_target).filter(standard_type=\"IC50\")"
      ]
    },
    {
      "cell_type": "code",
      "execution_count": 72,
      "metadata": {
        "colab": {},
        "colab_type": "code",
        "id": "RC4T-NEmSWV-"
      },
      "outputs": [],
      "source": [
        "df = pd.DataFrame.from_dict(res)"
      ]
    },
    {
      "cell_type": "code",
      "execution_count": 73,
      "metadata": {
        "colab": {
          "base_uri": "https://localhost:8080/",
          "height": 265
        },
        "colab_type": "code",
        "id": "s9iUAXFdSkoM",
        "outputId": "c9b681cc-97ab-40fb-a735-5e2b39612f8c"
      },
      "outputs": [
        {
          "data": {
            "text/html": [
              "<div>\n",
              "<style scoped>\n",
              "    .dataframe tbody tr th:only-of-type {\n",
              "        vertical-align: middle;\n",
              "    }\n",
              "\n",
              "    .dataframe tbody tr th {\n",
              "        vertical-align: top;\n",
              "    }\n",
              "\n",
              "    .dataframe thead th {\n",
              "        text-align: right;\n",
              "    }\n",
              "</style>\n",
              "<table border=\"1\" class=\"dataframe\">\n",
              "  <thead>\n",
              "    <tr style=\"text-align: right;\">\n",
              "      <th></th>\n",
              "      <th>action_type</th>\n",
              "      <th>activity_comment</th>\n",
              "      <th>activity_id</th>\n",
              "      <th>activity_properties</th>\n",
              "      <th>assay_chembl_id</th>\n",
              "      <th>assay_description</th>\n",
              "      <th>assay_type</th>\n",
              "      <th>assay_variant_accession</th>\n",
              "      <th>assay_variant_mutation</th>\n",
              "      <th>bao_endpoint</th>\n",
              "      <th>...</th>\n",
              "      <th>target_organism</th>\n",
              "      <th>target_pref_name</th>\n",
              "      <th>target_tax_id</th>\n",
              "      <th>text_value</th>\n",
              "      <th>toid</th>\n",
              "      <th>type</th>\n",
              "      <th>units</th>\n",
              "      <th>uo_units</th>\n",
              "      <th>upper_value</th>\n",
              "      <th>value</th>\n",
              "    </tr>\n",
              "  </thead>\n",
              "  <tbody>\n",
              "    <tr>\n",
              "      <th>0</th>\n",
              "      <td>None</td>\n",
              "      <td>None</td>\n",
              "      <td>3515252</td>\n",
              "      <td>[]</td>\n",
              "      <td>CHEMBL1273376</td>\n",
              "      <td>Binding affinity to Hsp70 nucleotide binding d...</td>\n",
              "      <td>B</td>\n",
              "      <td>None</td>\n",
              "      <td>None</td>\n",
              "      <td>BAO_0000190</td>\n",
              "      <td>...</td>\n",
              "      <td>Homo sapiens</td>\n",
              "      <td>Heat shock cognate 71 kDa protein</td>\n",
              "      <td>9606</td>\n",
              "      <td>None</td>\n",
              "      <td>None</td>\n",
              "      <td>IC50</td>\n",
              "      <td>uM</td>\n",
              "      <td>UO_0000065</td>\n",
              "      <td>None</td>\n",
              "      <td>10.4</td>\n",
              "    </tr>\n",
              "    <tr>\n",
              "      <th>1</th>\n",
              "      <td>None</td>\n",
              "      <td>Not Active</td>\n",
              "      <td>4647687</td>\n",
              "      <td>[]</td>\n",
              "      <td>CHEMBL1613796</td>\n",
              "      <td>PUBCHEM_BIOASSAY: High Throughput Screening As...</td>\n",
              "      <td>B</td>\n",
              "      <td>None</td>\n",
              "      <td>None</td>\n",
              "      <td>BAO_0000190</td>\n",
              "      <td>...</td>\n",
              "      <td>Homo sapiens</td>\n",
              "      <td>Heat shock cognate 71 kDa protein</td>\n",
              "      <td>9606</td>\n",
              "      <td>None</td>\n",
              "      <td>None</td>\n",
              "      <td>IC50</td>\n",
              "      <td>um</td>\n",
              "      <td>UO_0000065</td>\n",
              "      <td>None</td>\n",
              "      <td>999.0</td>\n",
              "    </tr>\n",
              "    <tr>\n",
              "      <th>2</th>\n",
              "      <td>None</td>\n",
              "      <td>Not Active</td>\n",
              "      <td>4647688</td>\n",
              "      <td>[]</td>\n",
              "      <td>CHEMBL1613796</td>\n",
              "      <td>PUBCHEM_BIOASSAY: High Throughput Screening As...</td>\n",
              "      <td>B</td>\n",
              "      <td>None</td>\n",
              "      <td>None</td>\n",
              "      <td>BAO_0000190</td>\n",
              "      <td>...</td>\n",
              "      <td>Homo sapiens</td>\n",
              "      <td>Heat shock cognate 71 kDa protein</td>\n",
              "      <td>9606</td>\n",
              "      <td>None</td>\n",
              "      <td>None</td>\n",
              "      <td>IC50</td>\n",
              "      <td>um</td>\n",
              "      <td>UO_0000065</td>\n",
              "      <td>None</td>\n",
              "      <td>999.0</td>\n",
              "    </tr>\n",
              "  </tbody>\n",
              "</table>\n",
              "<p>3 rows × 46 columns</p>\n",
              "</div>"
            ],
            "text/plain": [
              "  action_type activity_comment  activity_id activity_properties  \\\n",
              "0        None             None      3515252                  []   \n",
              "1        None       Not Active      4647687                  []   \n",
              "2        None       Not Active      4647688                  []   \n",
              "\n",
              "  assay_chembl_id                                  assay_description  \\\n",
              "0   CHEMBL1273376  Binding affinity to Hsp70 nucleotide binding d...   \n",
              "1   CHEMBL1613796  PUBCHEM_BIOASSAY: High Throughput Screening As...   \n",
              "2   CHEMBL1613796  PUBCHEM_BIOASSAY: High Throughput Screening As...   \n",
              "\n",
              "  assay_type assay_variant_accession assay_variant_mutation bao_endpoint  ...  \\\n",
              "0          B                    None                   None  BAO_0000190  ...   \n",
              "1          B                    None                   None  BAO_0000190  ...   \n",
              "2          B                    None                   None  BAO_0000190  ...   \n",
              "\n",
              "  target_organism                   target_pref_name target_tax_id text_value  \\\n",
              "0    Homo sapiens  Heat shock cognate 71 kDa protein          9606       None   \n",
              "1    Homo sapiens  Heat shock cognate 71 kDa protein          9606       None   \n",
              "2    Homo sapiens  Heat shock cognate 71 kDa protein          9606       None   \n",
              "\n",
              "   toid  type units    uo_units upper_value  value  \n",
              "0  None  IC50    uM  UO_0000065        None   10.4  \n",
              "1  None  IC50    um  UO_0000065        None  999.0  \n",
              "2  None  IC50    um  UO_0000065        None  999.0  \n",
              "\n",
              "[3 rows x 46 columns]"
            ]
          },
          "execution_count": 73,
          "metadata": {},
          "output_type": "execute_result"
        }
      ],
      "source": [
        "df.head(3)"
      ]
    },
    {
      "cell_type": "code",
      "execution_count": 74,
      "metadata": {
        "colab": {
          "base_uri": "https://localhost:8080/",
          "height": 35
        },
        "colab_type": "code",
        "id": "oNtBv36dYhxy",
        "outputId": "db6a7832-55eb-484c-b56c-98cdcd5944dd"
      },
      "outputs": [
        {
          "data": {
            "text/plain": [
              "array(['IC50'], dtype=object)"
            ]
          },
          "execution_count": 74,
          "metadata": {},
          "output_type": "execute_result"
        }
      ],
      "source": [
        "df.standard_type.unique()"
      ]
    },
    {
      "cell_type": "code",
      "execution_count": 75,
      "metadata": {
        "colab": {},
        "colab_type": "code",
        "id": "ZvUUEIVxTOH1"
      },
      "outputs": [],
      "source": [
        "df.to_csv('bioactivity_data.csv', index=False)"
      ]
    },
    {
      "cell_type": "markdown",
      "metadata": {
        "colab_type": "text",
        "id": "7UAasSu5jAeB"
      },
      "source": [
        "Taking a glimpse of the **bioactivity_data.csv** file that we've just created."
      ]
    },
    {
      "cell_type": "code",
      "execution_count": 77,
      "metadata": {
        "colab": {
          "base_uri": "https://localhost:8080/",
          "height": 211
        },
        "colab_type": "code",
        "id": "jwEJjx5b5gAn",
        "outputId": "69dce8c6-565d-4537-952e-b01da9f2fd83"
      },
      "outputs": [
        {
          "name": "stdout",
          "output_type": "stream",
          "text": [
            "action_type,activity_comment,activity_id,activity_properties,assay_chembl_id,assay_description,assay_type,assay_variant_accession,assay_variant_mutation,bao_endpoint,bao_format,bao_label,canonical_smiles,data_validity_comment,data_validity_description,document_chembl_id,document_journal,document_year,ligand_efficiency,molecule_chembl_id,molecule_pref_name,parent_molecule_chembl_id,pchembl_value,potential_duplicate,qudt_units,record_id,relation,src_id,standard_flag,standard_relation,standard_text_value,standard_type,standard_units,standard_upper_value,standard_value,target_chembl_id,target_organism,target_pref_name,target_tax_id,text_value,toid,type,units,uo_units,upper_value,value\n",
            ",,3515252,[],CHEMBL1273376,Binding affinity to Hsp70 nucleotide binding domain in human BT474 cells,B,,,BAO_0000190,BAO_0000219,cell-based format,N#Cc1ccc(COC[C@H]2O[C@@H](n3c(NCc4ccc(Cl)c(Cl)c4)nc4c(N)ncnc43)[C@H](O)[C@@H]2O)cc1,,,CHEMBL1268867,J Med Chem,2010.0,\"{'bei': '8.96', 'le': '0.18', 'lle': '1.94', 'sei': '3.03'}\",CHEMBL470334,,CHEMBL470334,4.98,0,http://www.openphacts.org/units/Nanomolar,966671,=,1,1,=,,IC50,nM,,10400.0,CHEMBL1275223,Homo sapiens,Heat shock cognate 71 kDa protein,9606,,,IC50,uM,UO_0000065,,10.4\n",
            ",Not Active,4647687,[],CHEMBL1613796,PUBCHEM_BIOASSAY: High Throughput Screening Assay for Hsc70 Inhibitors. (Class of assay: confirmatory) ,B,,,BAO_0000190,BAO_0000357,single protein format,CCCc1cc(SCC(=O)Nc2c(C)n(C)n(-c3ccccc3)c2=O)n2c(nc3ccccc32)c1C#N,Outside typical range,\"Values for this activity type are unusually large/small, so may not be accurate\",CHEMBL1201862,,,,CHEMBL1358945,,CHEMBL1358945,,0,http://www.openphacts.org/units/Nanomolar,999172,=,7,1,=,,IC50,nM,,999000.0,CHEMBL1275223,Homo sapiens,Heat shock cognate 71 kDa protein,9606,,,IC50,um,UO_0000065,,999.0\n",
            ",Not Active,4647688,[],CHEMBL1613796,PUBCHEM_BIOASSAY: High Throughput Screening Assay for Hsc70 Inhibitors. (Class of assay: confirmatory) ,B,,,BAO_0000190,BAO_0000357,single protein format,O=C(/C=C(/NCCO)C(F)(F)F)c1ccc(Cl)cc1,Outside typical range,\"Values for this activity type are unusually large/small, so may not be accurate\",CHEMBL1201862,,,,CHEMBL3191473,,CHEMBL3191473,,0,http://www.openphacts.org/units/Nanomolar,1000404,=,7,1,=,,IC50,nM,,999000.0,CHEMBL1275223,Homo sapiens,Heat shock cognate 71 kDa protein,9606,,,IC50,um,UO_0000065,,999.0\n",
            ",Not Active,4647689,[],CHEMBL1613796,PUBCHEM_BIOASSAY: High Throughput Screening Assay for Hsc70 Inhibitors. (Class of assay: confirmatory) ,B,,,BAO_0000190,BAO_0000357,single protein format,Cc1cc(NC(=O)CSc2ncnc3ccccc23)no1,Outside typical range,\"Values for this activity type are unusually large/small, so may not be accurate\",CHEMBL1201862,,,,CHEMBL1537858,,CHEMBL1537858,,0,http://www.openphacts.org/units/Nanomolar,1275491,=,7,1,=,,IC50,nM,,999000.0,CHEMBL1275223,Homo sapiens,Heat shock cognate 71 kDa protein,9606,,,IC50,um,UO_0000065,,999.0\n",
            ",Not Active,4647690,[],CHEMBL1613796,PUBCHEM_BIOASSAY: High Throughput Screening Assay for Hsc70 Inhibitors. (Class of assay: confirmatory) ,B,,,BAO_0000190,BAO_0000357,single protein format,CCOc1ccccc1N1Cc2cc(C)c(C)cc2C1,Outside typical range,\"Values for this activity type are unusually large/small, so may not be accurate\",CHEMBL1201862,,,,CHEMBL1576855,,CHEMBL1576855,,0,http://www.openphacts.org/units/Nanomolar,1272198,=,7,1,=,,IC50,nM,,999000.0,CHEMBL1275223,Homo sapiens,Heat shock cognate 71 kDa protein,9606,,,IC50,um,UO_0000065,,999.0\n",
            ",Not Active,4647691,[],CHEMBL1613796,PUBCHEM_BIOASSAY: High Throughput Screening Assay for Hsc70 Inhibitors. (Class of assay: confirmatory) ,B,,,BAO_0000190,BAO_0000357,single protein format,O=C(ONc1ccc(N=NC(=O)c2ccccc2O)cc1)c1ccccc1,Outside typical range,\"Values for this activity type are unusually large/small, so may not be accurate\",CHEMBL1201862,,,,CHEMBL1360493,,CHEMBL1360493,,0,http://www.openphacts.org/units/Nanomolar,996970,=,7,1,=,,IC50,nM,,999000.0,CHEMBL1275223,Homo sapiens,Heat shock cognate 71 kDa protein,9606,,,IC50,um,UO_0000065,,999.0\n",
            ",Not Active,4647692,[],CHEMBL1613796,PUBCHEM_BIOASSAY: High Throughput Screening Assay for Hsc70 Inhibitors. (Class of assay: confirmatory) ,B,,,BAO_0000190,BAO_0000357,single protein format,CC(=O)N1CCC2(CC1)C(C#N)=C(N)Oc1[nH]nc(C)c12,Outside typical range,\"Values for this activity type are unusually large/small, so may not be accurate\",CHEMBL1201862,,,,CHEMBL1420920,,CHEMBL1420920,,0,http://www.openphacts.org/units/Nanomolar,1285496,=,7,1,=,,IC50,nM,,999000.0,CHEMBL1275223,Homo sapiens,Heat shock cognate 71 kDa protein,9606,,,IC50,um,UO_0000065,,999.0\n",
            ",Not Active,4647693,[],CHEMBL1613796,PUBCHEM_BIOASSAY: High Throughput Screening Assay for Hsc70 Inhibitors. (Class of assay: confirmatory) ,B,,,BAO_0000190,BAO_0000357,single protein format,O=[N+]([O-])c1ccc(Cl)c(/C=C/c2cc(C(F)(F)F)nc(O)n2)c1,Outside typical range,\"Values for this activity type are unusually large/small, so may not be accurate\",CHEMBL1201862,,,,CHEMBL1341697,,CHEMBL1341697,,0,http://www.openphacts.org/units/Nanomolar,1004212,=,7,1,=,,IC50,nM,,999000.0,CHEMBL1275223,Homo sapiens,Heat shock cognate 71 kDa protein,9606,,,IC50,um,UO_0000065,,999.0\n",
            ",Active,4647694,[],CHEMBL1613796,PUBCHEM_BIOASSAY: High Throughput Screening Assay for Hsc70 Inhibitors. (Class of assay: confirmatory) ,B,,,BAO_0000190,BAO_0000357,single protein format,Oc1c(Cl)cc(Cl)c(Cl)c1Cc1c(O)c(Cl)cc(Cl)c1Cl,,,CHEMBL1201862,,,\"{'bei': '11.21', 'le': '0.30', 'lle': '-2.05', 'sei': '11.28'}\",CHEMBL496,HEXACHLOROPHENE,CHEMBL496,4.56,0,http://www.openphacts.org/units/Nanomolar,1284362,=,7,1,=,,IC50,nM,,27400.0,CHEMBL1275223,Homo sapiens,Heat shock cognate 71 kDa protein,9606,,,IC50,um,UO_0000065,,27.4\n"
          ]
        }
      ],
      "source": [
        "! head bioactivity_data.csv"
      ]
    },
    {
      "cell_type": "markdown",
      "metadata": {
        "colab_type": "text",
        "id": "_GXMpFNUOn_8"
      },
      "source": [
        "## **Handling missing data**\n",
        "If any compounds has missing value for the **standard_value** column then drop it"
      ]
    },
    {
      "cell_type": "code",
      "execution_count": 78,
      "metadata": {
        "colab": {
          "base_uri": "https://localhost:8080/",
          "height": 782
        },
        "colab_type": "code",
        "id": "hkVOdk6ZR396",
        "outputId": "fc08d57e-f832-4cb0-90f2-dc7394b0209d"
      },
      "outputs": [
        {
          "data": {
            "text/html": [
              "<div>\n",
              "<style scoped>\n",
              "    .dataframe tbody tr th:only-of-type {\n",
              "        vertical-align: middle;\n",
              "    }\n",
              "\n",
              "    .dataframe tbody tr th {\n",
              "        vertical-align: top;\n",
              "    }\n",
              "\n",
              "    .dataframe thead th {\n",
              "        text-align: right;\n",
              "    }\n",
              "</style>\n",
              "<table border=\"1\" class=\"dataframe\">\n",
              "  <thead>\n",
              "    <tr style=\"text-align: right;\">\n",
              "      <th></th>\n",
              "      <th>action_type</th>\n",
              "      <th>activity_comment</th>\n",
              "      <th>activity_id</th>\n",
              "      <th>activity_properties</th>\n",
              "      <th>assay_chembl_id</th>\n",
              "      <th>assay_description</th>\n",
              "      <th>assay_type</th>\n",
              "      <th>assay_variant_accession</th>\n",
              "      <th>assay_variant_mutation</th>\n",
              "      <th>bao_endpoint</th>\n",
              "      <th>...</th>\n",
              "      <th>target_organism</th>\n",
              "      <th>target_pref_name</th>\n",
              "      <th>target_tax_id</th>\n",
              "      <th>text_value</th>\n",
              "      <th>toid</th>\n",
              "      <th>type</th>\n",
              "      <th>units</th>\n",
              "      <th>uo_units</th>\n",
              "      <th>upper_value</th>\n",
              "      <th>value</th>\n",
              "    </tr>\n",
              "  </thead>\n",
              "  <tbody>\n",
              "    <tr>\n",
              "      <th>0</th>\n",
              "      <td>None</td>\n",
              "      <td>None</td>\n",
              "      <td>3515252</td>\n",
              "      <td>[]</td>\n",
              "      <td>CHEMBL1273376</td>\n",
              "      <td>Binding affinity to Hsp70 nucleotide binding d...</td>\n",
              "      <td>B</td>\n",
              "      <td>None</td>\n",
              "      <td>None</td>\n",
              "      <td>BAO_0000190</td>\n",
              "      <td>...</td>\n",
              "      <td>Homo sapiens</td>\n",
              "      <td>Heat shock cognate 71 kDa protein</td>\n",
              "      <td>9606</td>\n",
              "      <td>None</td>\n",
              "      <td>None</td>\n",
              "      <td>IC50</td>\n",
              "      <td>uM</td>\n",
              "      <td>UO_0000065</td>\n",
              "      <td>None</td>\n",
              "      <td>10.4</td>\n",
              "    </tr>\n",
              "    <tr>\n",
              "      <th>1</th>\n",
              "      <td>None</td>\n",
              "      <td>Not Active</td>\n",
              "      <td>4647687</td>\n",
              "      <td>[]</td>\n",
              "      <td>CHEMBL1613796</td>\n",
              "      <td>PUBCHEM_BIOASSAY: High Throughput Screening As...</td>\n",
              "      <td>B</td>\n",
              "      <td>None</td>\n",
              "      <td>None</td>\n",
              "      <td>BAO_0000190</td>\n",
              "      <td>...</td>\n",
              "      <td>Homo sapiens</td>\n",
              "      <td>Heat shock cognate 71 kDa protein</td>\n",
              "      <td>9606</td>\n",
              "      <td>None</td>\n",
              "      <td>None</td>\n",
              "      <td>IC50</td>\n",
              "      <td>um</td>\n",
              "      <td>UO_0000065</td>\n",
              "      <td>None</td>\n",
              "      <td>999.0</td>\n",
              "    </tr>\n",
              "    <tr>\n",
              "      <th>2</th>\n",
              "      <td>None</td>\n",
              "      <td>Not Active</td>\n",
              "      <td>4647688</td>\n",
              "      <td>[]</td>\n",
              "      <td>CHEMBL1613796</td>\n",
              "      <td>PUBCHEM_BIOASSAY: High Throughput Screening As...</td>\n",
              "      <td>B</td>\n",
              "      <td>None</td>\n",
              "      <td>None</td>\n",
              "      <td>BAO_0000190</td>\n",
              "      <td>...</td>\n",
              "      <td>Homo sapiens</td>\n",
              "      <td>Heat shock cognate 71 kDa protein</td>\n",
              "      <td>9606</td>\n",
              "      <td>None</td>\n",
              "      <td>None</td>\n",
              "      <td>IC50</td>\n",
              "      <td>um</td>\n",
              "      <td>UO_0000065</td>\n",
              "      <td>None</td>\n",
              "      <td>999.0</td>\n",
              "    </tr>\n",
              "    <tr>\n",
              "      <th>3</th>\n",
              "      <td>None</td>\n",
              "      <td>Not Active</td>\n",
              "      <td>4647689</td>\n",
              "      <td>[]</td>\n",
              "      <td>CHEMBL1613796</td>\n",
              "      <td>PUBCHEM_BIOASSAY: High Throughput Screening As...</td>\n",
              "      <td>B</td>\n",
              "      <td>None</td>\n",
              "      <td>None</td>\n",
              "      <td>BAO_0000190</td>\n",
              "      <td>...</td>\n",
              "      <td>Homo sapiens</td>\n",
              "      <td>Heat shock cognate 71 kDa protein</td>\n",
              "      <td>9606</td>\n",
              "      <td>None</td>\n",
              "      <td>None</td>\n",
              "      <td>IC50</td>\n",
              "      <td>um</td>\n",
              "      <td>UO_0000065</td>\n",
              "      <td>None</td>\n",
              "      <td>999.0</td>\n",
              "    </tr>\n",
              "    <tr>\n",
              "      <th>4</th>\n",
              "      <td>None</td>\n",
              "      <td>Not Active</td>\n",
              "      <td>4647690</td>\n",
              "      <td>[]</td>\n",
              "      <td>CHEMBL1613796</td>\n",
              "      <td>PUBCHEM_BIOASSAY: High Throughput Screening As...</td>\n",
              "      <td>B</td>\n",
              "      <td>None</td>\n",
              "      <td>None</td>\n",
              "      <td>BAO_0000190</td>\n",
              "      <td>...</td>\n",
              "      <td>Homo sapiens</td>\n",
              "      <td>Heat shock cognate 71 kDa protein</td>\n",
              "      <td>9606</td>\n",
              "      <td>None</td>\n",
              "      <td>None</td>\n",
              "      <td>IC50</td>\n",
              "      <td>um</td>\n",
              "      <td>UO_0000065</td>\n",
              "      <td>None</td>\n",
              "      <td>999.0</td>\n",
              "    </tr>\n",
              "    <tr>\n",
              "      <th>...</th>\n",
              "      <td>...</td>\n",
              "      <td>...</td>\n",
              "      <td>...</td>\n",
              "      <td>...</td>\n",
              "      <td>...</td>\n",
              "      <td>...</td>\n",
              "      <td>...</td>\n",
              "      <td>...</td>\n",
              "      <td>...</td>\n",
              "      <td>...</td>\n",
              "      <td>...</td>\n",
              "      <td>...</td>\n",
              "      <td>...</td>\n",
              "      <td>...</td>\n",
              "      <td>...</td>\n",
              "      <td>...</td>\n",
              "      <td>...</td>\n",
              "      <td>...</td>\n",
              "      <td>...</td>\n",
              "      <td>...</td>\n",
              "      <td>...</td>\n",
              "    </tr>\n",
              "    <tr>\n",
              "      <th>90</th>\n",
              "      <td>None</td>\n",
              "      <td>None</td>\n",
              "      <td>15036983</td>\n",
              "      <td>[]</td>\n",
              "      <td>CHEMBL3375010</td>\n",
              "      <td>Inhibition of HSC70 (unknown origin)</td>\n",
              "      <td>B</td>\n",
              "      <td>None</td>\n",
              "      <td>None</td>\n",
              "      <td>BAO_0000190</td>\n",
              "      <td>...</td>\n",
              "      <td>Homo sapiens</td>\n",
              "      <td>Heat shock cognate 71 kDa protein</td>\n",
              "      <td>9606</td>\n",
              "      <td>None</td>\n",
              "      <td>None</td>\n",
              "      <td>IC50</td>\n",
              "      <td>uM</td>\n",
              "      <td>UO_0000065</td>\n",
              "      <td>None</td>\n",
              "      <td>10.0</td>\n",
              "    </tr>\n",
              "    <tr>\n",
              "      <th>91</th>\n",
              "      <td>None</td>\n",
              "      <td>None</td>\n",
              "      <td>15036984</td>\n",
              "      <td>[]</td>\n",
              "      <td>CHEMBL3375010</td>\n",
              "      <td>Inhibition of HSC70 (unknown origin)</td>\n",
              "      <td>B</td>\n",
              "      <td>None</td>\n",
              "      <td>None</td>\n",
              "      <td>BAO_0000190</td>\n",
              "      <td>...</td>\n",
              "      <td>Homo sapiens</td>\n",
              "      <td>Heat shock cognate 71 kDa protein</td>\n",
              "      <td>9606</td>\n",
              "      <td>None</td>\n",
              "      <td>None</td>\n",
              "      <td>IC50</td>\n",
              "      <td>uM</td>\n",
              "      <td>UO_0000065</td>\n",
              "      <td>None</td>\n",
              "      <td>10.0</td>\n",
              "    </tr>\n",
              "    <tr>\n",
              "      <th>92</th>\n",
              "      <td>None</td>\n",
              "      <td>None</td>\n",
              "      <td>15036985</td>\n",
              "      <td>[]</td>\n",
              "      <td>CHEMBL3375010</td>\n",
              "      <td>Inhibition of HSC70 (unknown origin)</td>\n",
              "      <td>B</td>\n",
              "      <td>None</td>\n",
              "      <td>None</td>\n",
              "      <td>BAO_0000190</td>\n",
              "      <td>...</td>\n",
              "      <td>Homo sapiens</td>\n",
              "      <td>Heat shock cognate 71 kDa protein</td>\n",
              "      <td>9606</td>\n",
              "      <td>None</td>\n",
              "      <td>None</td>\n",
              "      <td>IC50</td>\n",
              "      <td>uM</td>\n",
              "      <td>UO_0000065</td>\n",
              "      <td>None</td>\n",
              "      <td>10.0</td>\n",
              "    </tr>\n",
              "    <tr>\n",
              "      <th>93</th>\n",
              "      <td>None</td>\n",
              "      <td>None</td>\n",
              "      <td>15036986</td>\n",
              "      <td>[]</td>\n",
              "      <td>CHEMBL3375010</td>\n",
              "      <td>Inhibition of HSC70 (unknown origin)</td>\n",
              "      <td>B</td>\n",
              "      <td>None</td>\n",
              "      <td>None</td>\n",
              "      <td>BAO_0000190</td>\n",
              "      <td>...</td>\n",
              "      <td>Homo sapiens</td>\n",
              "      <td>Heat shock cognate 71 kDa protein</td>\n",
              "      <td>9606</td>\n",
              "      <td>None</td>\n",
              "      <td>None</td>\n",
              "      <td>IC50</td>\n",
              "      <td>uM</td>\n",
              "      <td>UO_0000065</td>\n",
              "      <td>None</td>\n",
              "      <td>10.0</td>\n",
              "    </tr>\n",
              "    <tr>\n",
              "      <th>94</th>\n",
              "      <td>None</td>\n",
              "      <td>None</td>\n",
              "      <td>15036987</td>\n",
              "      <td>[]</td>\n",
              "      <td>CHEMBL3375010</td>\n",
              "      <td>Inhibition of HSC70 (unknown origin)</td>\n",
              "      <td>B</td>\n",
              "      <td>None</td>\n",
              "      <td>None</td>\n",
              "      <td>BAO_0000190</td>\n",
              "      <td>...</td>\n",
              "      <td>Homo sapiens</td>\n",
              "      <td>Heat shock cognate 71 kDa protein</td>\n",
              "      <td>9606</td>\n",
              "      <td>None</td>\n",
              "      <td>None</td>\n",
              "      <td>IC50</td>\n",
              "      <td>uM</td>\n",
              "      <td>UO_0000065</td>\n",
              "      <td>None</td>\n",
              "      <td>10.0</td>\n",
              "    </tr>\n",
              "  </tbody>\n",
              "</table>\n",
              "<p>95 rows × 46 columns</p>\n",
              "</div>"
            ],
            "text/plain": [
              "   action_type activity_comment  activity_id activity_properties  \\\n",
              "0         None             None      3515252                  []   \n",
              "1         None       Not Active      4647687                  []   \n",
              "2         None       Not Active      4647688                  []   \n",
              "3         None       Not Active      4647689                  []   \n",
              "4         None       Not Active      4647690                  []   \n",
              "..         ...              ...          ...                 ...   \n",
              "90        None             None     15036983                  []   \n",
              "91        None             None     15036984                  []   \n",
              "92        None             None     15036985                  []   \n",
              "93        None             None     15036986                  []   \n",
              "94        None             None     15036987                  []   \n",
              "\n",
              "   assay_chembl_id                                  assay_description  \\\n",
              "0    CHEMBL1273376  Binding affinity to Hsp70 nucleotide binding d...   \n",
              "1    CHEMBL1613796  PUBCHEM_BIOASSAY: High Throughput Screening As...   \n",
              "2    CHEMBL1613796  PUBCHEM_BIOASSAY: High Throughput Screening As...   \n",
              "3    CHEMBL1613796  PUBCHEM_BIOASSAY: High Throughput Screening As...   \n",
              "4    CHEMBL1613796  PUBCHEM_BIOASSAY: High Throughput Screening As...   \n",
              "..             ...                                                ...   \n",
              "90   CHEMBL3375010               Inhibition of HSC70 (unknown origin)   \n",
              "91   CHEMBL3375010               Inhibition of HSC70 (unknown origin)   \n",
              "92   CHEMBL3375010               Inhibition of HSC70 (unknown origin)   \n",
              "93   CHEMBL3375010               Inhibition of HSC70 (unknown origin)   \n",
              "94   CHEMBL3375010               Inhibition of HSC70 (unknown origin)   \n",
              "\n",
              "   assay_type assay_variant_accession assay_variant_mutation bao_endpoint  \\\n",
              "0           B                    None                   None  BAO_0000190   \n",
              "1           B                    None                   None  BAO_0000190   \n",
              "2           B                    None                   None  BAO_0000190   \n",
              "3           B                    None                   None  BAO_0000190   \n",
              "4           B                    None                   None  BAO_0000190   \n",
              "..        ...                     ...                    ...          ...   \n",
              "90          B                    None                   None  BAO_0000190   \n",
              "91          B                    None                   None  BAO_0000190   \n",
              "92          B                    None                   None  BAO_0000190   \n",
              "93          B                    None                   None  BAO_0000190   \n",
              "94          B                    None                   None  BAO_0000190   \n",
              "\n",
              "    ... target_organism                   target_pref_name target_tax_id  \\\n",
              "0   ...    Homo sapiens  Heat shock cognate 71 kDa protein          9606   \n",
              "1   ...    Homo sapiens  Heat shock cognate 71 kDa protein          9606   \n",
              "2   ...    Homo sapiens  Heat shock cognate 71 kDa protein          9606   \n",
              "3   ...    Homo sapiens  Heat shock cognate 71 kDa protein          9606   \n",
              "4   ...    Homo sapiens  Heat shock cognate 71 kDa protein          9606   \n",
              "..  ...             ...                                ...           ...   \n",
              "90  ...    Homo sapiens  Heat shock cognate 71 kDa protein          9606   \n",
              "91  ...    Homo sapiens  Heat shock cognate 71 kDa protein          9606   \n",
              "92  ...    Homo sapiens  Heat shock cognate 71 kDa protein          9606   \n",
              "93  ...    Homo sapiens  Heat shock cognate 71 kDa protein          9606   \n",
              "94  ...    Homo sapiens  Heat shock cognate 71 kDa protein          9606   \n",
              "\n",
              "   text_value  toid  type units    uo_units upper_value  value  \n",
              "0        None  None  IC50    uM  UO_0000065        None   10.4  \n",
              "1        None  None  IC50    um  UO_0000065        None  999.0  \n",
              "2        None  None  IC50    um  UO_0000065        None  999.0  \n",
              "3        None  None  IC50    um  UO_0000065        None  999.0  \n",
              "4        None  None  IC50    um  UO_0000065        None  999.0  \n",
              "..        ...   ...   ...   ...         ...         ...    ...  \n",
              "90       None  None  IC50    uM  UO_0000065        None   10.0  \n",
              "91       None  None  IC50    uM  UO_0000065        None   10.0  \n",
              "92       None  None  IC50    uM  UO_0000065        None   10.0  \n",
              "93       None  None  IC50    uM  UO_0000065        None   10.0  \n",
              "94       None  None  IC50    uM  UO_0000065        None   10.0  \n",
              "\n",
              "[95 rows x 46 columns]"
            ]
          },
          "execution_count": 78,
          "metadata": {},
          "output_type": "execute_result"
        }
      ],
      "source": [
        "df2 = df[df.standard_value.notna()]\n",
        "df2"
      ]
    },
    {
      "cell_type": "markdown",
      "metadata": {
        "colab_type": "text",
        "id": "Y-qNsUlmjS25"
      },
      "source": [
        "Apparently, for this dataset there is no missing data. But we can use the above code cell for bioactivity data of other target protein."
      ]
    },
    {
      "cell_type": "markdown",
      "metadata": {
        "colab_type": "text",
        "id": "5H4sSFAWhV9B"
      },
      "source": [
        "## **Data pre-processing of the bioactivity data**"
      ]
    },
    {
      "cell_type": "markdown",
      "metadata": {
        "colab_type": "text",
        "id": "tO22XVlzhkXR"
      },
      "source": [
        "### **Labeling compounds as either being active, inactive or intermediate**\n",
        "The bioactivity data is in the IC50 unit. Compounds having values of less than 1000 nM will be considered to be **active** while those greater than 10,000 nM will be considered to be **inactive**. As for those values in between 1,000 and 10,000 nM will be referred to as **intermediate**. "
      ]
    },
    {
      "cell_type": "code",
      "execution_count": 79,
      "metadata": {
        "colab": {},
        "colab_type": "code",
        "id": "1E8rz7oMOd-5"
      },
      "outputs": [],
      "source": [
        "bioactivity_class = []\n",
        "for i in df2.standard_value:\n",
        "  if float(i) >= 10000:\n",
        "    bioactivity_class.append(\"inactive\")\n",
        "  elif float(i) <= 1000:\n",
        "    bioactivity_class.append(\"active\")\n",
        "  else:\n",
        "    bioactivity_class.append(\"intermediate\")"
      ]
    },
    {
      "cell_type": "markdown",
      "metadata": {
        "colab_type": "text",
        "id": "PFsmb2N9hnTB"
      },
      "source": [
        "### **Iterate the *molecule_chembl_id* to a list**"
      ]
    },
    {
      "cell_type": "code",
      "execution_count": 80,
      "metadata": {
        "colab": {},
        "colab_type": "code",
        "id": "DMJng9xnVnMM"
      },
      "outputs": [],
      "source": [
        "mol_cid = []\n",
        "for i in df2.molecule_chembl_id:\n",
        "  mol_cid.append(i)"
      ]
    },
    {
      "cell_type": "markdown",
      "metadata": {
        "colab_type": "text",
        "id": "YRieJc9dhuVZ"
      },
      "source": [
        "### **Iterate *canonical_smiles* to a list**"
      ]
    },
    {
      "cell_type": "code",
      "execution_count": 81,
      "metadata": {
        "colab": {},
        "colab_type": "code",
        "id": "AT8qUBk1eVmj"
      },
      "outputs": [],
      "source": [
        "canonical_smiles = []\n",
        "for i in df2.canonical_smiles:\n",
        "  canonical_smiles.append(i)"
      ]
    },
    {
      "cell_type": "markdown",
      "metadata": {
        "colab_type": "text",
        "id": "DZFugUXxhwjE"
      },
      "source": [
        "### **Iterate *standard_value* to a list**"
      ]
    },
    {
      "cell_type": "code",
      "execution_count": 82,
      "metadata": {
        "colab": {},
        "colab_type": "code",
        "id": "ZaPt-FjEZNBe"
      },
      "outputs": [],
      "source": [
        "standard_value = []\n",
        "for i in df2.standard_value:\n",
        "  standard_value.append(i)"
      ]
    },
    {
      "cell_type": "markdown",
      "metadata": {
        "colab_type": "text",
        "id": "Nv2dzid_hzKd"
      },
      "source": [
        "### **Combine the 4 lists into a dataframe**"
      ]
    },
    {
      "cell_type": "code",
      "execution_count": 91,
      "metadata": {
        "colab": {},
        "colab_type": "code",
        "id": "TWlYO4I3Wrh-"
      },
      "outputs": [],
      "source": [
        "data_tuples = list(zip(mol_cid, canonical_smiles, bioactivity_class, standard_value))\n",
        "df3 = pd.DataFrame( data_tuples,  columns=['molecule_chembl_id', 'canonical_smiles', 'bioactivity_class', 'standard_value'])"
      ]
    },
    {
      "cell_type": "code",
      "execution_count": 92,
      "metadata": {
        "colab": {
          "base_uri": "https://localhost:8080/",
          "height": 415
        },
        "colab_type": "code",
        "id": "Li64nUiZQ-y2",
        "outputId": "a1d4cdb5-922d-4573-9f8b-abcb7ef72a58"
      },
      "outputs": [
        {
          "data": {
            "text/html": [
              "<div>\n",
              "<style scoped>\n",
              "    .dataframe tbody tr th:only-of-type {\n",
              "        vertical-align: middle;\n",
              "    }\n",
              "\n",
              "    .dataframe tbody tr th {\n",
              "        vertical-align: top;\n",
              "    }\n",
              "\n",
              "    .dataframe thead th {\n",
              "        text-align: right;\n",
              "    }\n",
              "</style>\n",
              "<table border=\"1\" class=\"dataframe\">\n",
              "  <thead>\n",
              "    <tr style=\"text-align: right;\">\n",
              "      <th></th>\n",
              "      <th>molecule_chembl_id</th>\n",
              "      <th>canonical_smiles</th>\n",
              "      <th>bioactivity_class</th>\n",
              "      <th>standard_value</th>\n",
              "    </tr>\n",
              "  </thead>\n",
              "  <tbody>\n",
              "    <tr>\n",
              "      <th>0</th>\n",
              "      <td>CHEMBL470334</td>\n",
              "      <td>N#Cc1ccc(COC[C@H]2O[C@@H](n3c(NCc4ccc(Cl)c(Cl)...</td>\n",
              "      <td>inactive</td>\n",
              "      <td>10400.0</td>\n",
              "    </tr>\n",
              "    <tr>\n",
              "      <th>1</th>\n",
              "      <td>CHEMBL1358945</td>\n",
              "      <td>CCCc1cc(SCC(=O)Nc2c(C)n(C)n(-c3ccccc3)c2=O)n2c...</td>\n",
              "      <td>inactive</td>\n",
              "      <td>999000.0</td>\n",
              "    </tr>\n",
              "    <tr>\n",
              "      <th>2</th>\n",
              "      <td>CHEMBL3191473</td>\n",
              "      <td>O=C(/C=C(/NCCO)C(F)(F)F)c1ccc(Cl)cc1</td>\n",
              "      <td>inactive</td>\n",
              "      <td>999000.0</td>\n",
              "    </tr>\n",
              "    <tr>\n",
              "      <th>3</th>\n",
              "      <td>CHEMBL1537858</td>\n",
              "      <td>Cc1cc(NC(=O)CSc2ncnc3ccccc23)no1</td>\n",
              "      <td>inactive</td>\n",
              "      <td>999000.0</td>\n",
              "    </tr>\n",
              "    <tr>\n",
              "      <th>4</th>\n",
              "      <td>CHEMBL1576855</td>\n",
              "      <td>CCOc1ccccc1N1Cc2cc(C)c(C)cc2C1</td>\n",
              "      <td>inactive</td>\n",
              "      <td>999000.0</td>\n",
              "    </tr>\n",
              "    <tr>\n",
              "      <th>...</th>\n",
              "      <td>...</td>\n",
              "      <td>...</td>\n",
              "      <td>...</td>\n",
              "      <td>...</td>\n",
              "    </tr>\n",
              "    <tr>\n",
              "      <th>90</th>\n",
              "      <td>CHEMBL3309990</td>\n",
              "      <td>Nc1nc2c3c(F)cccc3nc(Cc3ccc4c(c3)OCO4)n2n1</td>\n",
              "      <td>inactive</td>\n",
              "      <td>10000.0</td>\n",
              "    </tr>\n",
              "    <tr>\n",
              "      <th>91</th>\n",
              "      <td>CHEMBL3309995</td>\n",
              "      <td>Nc1ccc2c(c1)nc(Cc1ccc3c(c1)OCO3)n1nc(N)nc21</td>\n",
              "      <td>inactive</td>\n",
              "      <td>10000.0</td>\n",
              "    </tr>\n",
              "    <tr>\n",
              "      <th>92</th>\n",
              "      <td>CHEMBL3309997</td>\n",
              "      <td>OCCCNc1ccc2c(c1)nc(-c1ccc3c(c1)OCO3)n1ncnc21</td>\n",
              "      <td>inactive</td>\n",
              "      <td>10000.0</td>\n",
              "    </tr>\n",
              "    <tr>\n",
              "      <th>93</th>\n",
              "      <td>CHEMBL3309998</td>\n",
              "      <td>Nc1nc2c3ccc(NCCO)cc3nc(Cc3ccc4c(c3)OCO4)n2n1</td>\n",
              "      <td>inactive</td>\n",
              "      <td>10000.0</td>\n",
              "    </tr>\n",
              "    <tr>\n",
              "      <th>94</th>\n",
              "      <td>CHEMBL3310151</td>\n",
              "      <td>CN1CCN(c2cc(F)c3c(c2)nc(Cc2ccc4c(c2)OCO4)n2nc(...</td>\n",
              "      <td>inactive</td>\n",
              "      <td>10000.0</td>\n",
              "    </tr>\n",
              "  </tbody>\n",
              "</table>\n",
              "<p>95 rows × 4 columns</p>\n",
              "</div>"
            ],
            "text/plain": [
              "   molecule_chembl_id                                   canonical_smiles  \\\n",
              "0        CHEMBL470334  N#Cc1ccc(COC[C@H]2O[C@@H](n3c(NCc4ccc(Cl)c(Cl)...   \n",
              "1       CHEMBL1358945  CCCc1cc(SCC(=O)Nc2c(C)n(C)n(-c3ccccc3)c2=O)n2c...   \n",
              "2       CHEMBL3191473               O=C(/C=C(/NCCO)C(F)(F)F)c1ccc(Cl)cc1   \n",
              "3       CHEMBL1537858                   Cc1cc(NC(=O)CSc2ncnc3ccccc23)no1   \n",
              "4       CHEMBL1576855                     CCOc1ccccc1N1Cc2cc(C)c(C)cc2C1   \n",
              "..                ...                                                ...   \n",
              "90      CHEMBL3309990          Nc1nc2c3c(F)cccc3nc(Cc3ccc4c(c3)OCO4)n2n1   \n",
              "91      CHEMBL3309995        Nc1ccc2c(c1)nc(Cc1ccc3c(c1)OCO3)n1nc(N)nc21   \n",
              "92      CHEMBL3309997       OCCCNc1ccc2c(c1)nc(-c1ccc3c(c1)OCO3)n1ncnc21   \n",
              "93      CHEMBL3309998       Nc1nc2c3ccc(NCCO)cc3nc(Cc3ccc4c(c3)OCO4)n2n1   \n",
              "94      CHEMBL3310151  CN1CCN(c2cc(F)c3c(c2)nc(Cc2ccc4c(c2)OCO4)n2nc(...   \n",
              "\n",
              "   bioactivity_class standard_value  \n",
              "0           inactive        10400.0  \n",
              "1           inactive       999000.0  \n",
              "2           inactive       999000.0  \n",
              "3           inactive       999000.0  \n",
              "4           inactive       999000.0  \n",
              "..               ...            ...  \n",
              "90          inactive        10000.0  \n",
              "91          inactive        10000.0  \n",
              "92          inactive        10000.0  \n",
              "93          inactive        10000.0  \n",
              "94          inactive        10000.0  \n",
              "\n",
              "[95 rows x 4 columns]"
            ]
          },
          "execution_count": 92,
          "metadata": {},
          "output_type": "execute_result"
        }
      ],
      "source": [
        "df3"
      ]
    },
    {
      "cell_type": "code",
      "execution_count": 103,
      "metadata": {},
      "outputs": [
        {
          "data": {
            "text/plain": [
              "array(['inactive', 'intermediate', 'active'], dtype=object)"
            ]
          },
          "execution_count": 103,
          "metadata": {},
          "output_type": "execute_result"
        }
      ],
      "source": [
        "df3.bioactivity_class.unique()"
      ]
    },
    {
      "cell_type": "markdown",
      "metadata": {
        "colab_type": "text",
        "id": "vE0Vvo6ic3MI"
      },
      "source": [
        "### **Alternative method**"
      ]
    },
    {
      "cell_type": "code",
      "execution_count": 85,
      "metadata": {
        "colab": {
          "base_uri": "https://localhost:8080/",
          "height": 415
        },
        "colab_type": "code",
        "id": "VICiiCtqc2ne",
        "outputId": "0b39e703-b724-4f02-d86c-ea07791cdeed"
      },
      "outputs": [
        {
          "data": {
            "text/html": [
              "<div>\n",
              "<style scoped>\n",
              "    .dataframe tbody tr th:only-of-type {\n",
              "        vertical-align: middle;\n",
              "    }\n",
              "\n",
              "    .dataframe tbody tr th {\n",
              "        vertical-align: top;\n",
              "    }\n",
              "\n",
              "    .dataframe thead th {\n",
              "        text-align: right;\n",
              "    }\n",
              "</style>\n",
              "<table border=\"1\" class=\"dataframe\">\n",
              "  <thead>\n",
              "    <tr style=\"text-align: right;\">\n",
              "      <th></th>\n",
              "      <th>molecule_chembl_id</th>\n",
              "      <th>canonical_smiles</th>\n",
              "      <th>standard_value</th>\n",
              "    </tr>\n",
              "  </thead>\n",
              "  <tbody>\n",
              "    <tr>\n",
              "      <th>0</th>\n",
              "      <td>CHEMBL470334</td>\n",
              "      <td>N#Cc1ccc(COC[C@H]2O[C@@H](n3c(NCc4ccc(Cl)c(Cl)...</td>\n",
              "      <td>10400.0</td>\n",
              "    </tr>\n",
              "    <tr>\n",
              "      <th>1</th>\n",
              "      <td>CHEMBL1358945</td>\n",
              "      <td>CCCc1cc(SCC(=O)Nc2c(C)n(C)n(-c3ccccc3)c2=O)n2c...</td>\n",
              "      <td>999000.0</td>\n",
              "    </tr>\n",
              "    <tr>\n",
              "      <th>2</th>\n",
              "      <td>CHEMBL3191473</td>\n",
              "      <td>O=C(/C=C(/NCCO)C(F)(F)F)c1ccc(Cl)cc1</td>\n",
              "      <td>999000.0</td>\n",
              "    </tr>\n",
              "    <tr>\n",
              "      <th>3</th>\n",
              "      <td>CHEMBL1537858</td>\n",
              "      <td>Cc1cc(NC(=O)CSc2ncnc3ccccc23)no1</td>\n",
              "      <td>999000.0</td>\n",
              "    </tr>\n",
              "    <tr>\n",
              "      <th>4</th>\n",
              "      <td>CHEMBL1576855</td>\n",
              "      <td>CCOc1ccccc1N1Cc2cc(C)c(C)cc2C1</td>\n",
              "      <td>999000.0</td>\n",
              "    </tr>\n",
              "    <tr>\n",
              "      <th>...</th>\n",
              "      <td>...</td>\n",
              "      <td>...</td>\n",
              "      <td>...</td>\n",
              "    </tr>\n",
              "    <tr>\n",
              "      <th>90</th>\n",
              "      <td>CHEMBL3309990</td>\n",
              "      <td>Nc1nc2c3c(F)cccc3nc(Cc3ccc4c(c3)OCO4)n2n1</td>\n",
              "      <td>10000.0</td>\n",
              "    </tr>\n",
              "    <tr>\n",
              "      <th>91</th>\n",
              "      <td>CHEMBL3309995</td>\n",
              "      <td>Nc1ccc2c(c1)nc(Cc1ccc3c(c1)OCO3)n1nc(N)nc21</td>\n",
              "      <td>10000.0</td>\n",
              "    </tr>\n",
              "    <tr>\n",
              "      <th>92</th>\n",
              "      <td>CHEMBL3309997</td>\n",
              "      <td>OCCCNc1ccc2c(c1)nc(-c1ccc3c(c1)OCO3)n1ncnc21</td>\n",
              "      <td>10000.0</td>\n",
              "    </tr>\n",
              "    <tr>\n",
              "      <th>93</th>\n",
              "      <td>CHEMBL3309998</td>\n",
              "      <td>Nc1nc2c3ccc(NCCO)cc3nc(Cc3ccc4c(c3)OCO4)n2n1</td>\n",
              "      <td>10000.0</td>\n",
              "    </tr>\n",
              "    <tr>\n",
              "      <th>94</th>\n",
              "      <td>CHEMBL3310151</td>\n",
              "      <td>CN1CCN(c2cc(F)c3c(c2)nc(Cc2ccc4c(c2)OCO4)n2nc(...</td>\n",
              "      <td>10000.0</td>\n",
              "    </tr>\n",
              "  </tbody>\n",
              "</table>\n",
              "<p>95 rows × 3 columns</p>\n",
              "</div>"
            ],
            "text/plain": [
              "   molecule_chembl_id                                   canonical_smiles  \\\n",
              "0        CHEMBL470334  N#Cc1ccc(COC[C@H]2O[C@@H](n3c(NCc4ccc(Cl)c(Cl)...   \n",
              "1       CHEMBL1358945  CCCc1cc(SCC(=O)Nc2c(C)n(C)n(-c3ccccc3)c2=O)n2c...   \n",
              "2       CHEMBL3191473               O=C(/C=C(/NCCO)C(F)(F)F)c1ccc(Cl)cc1   \n",
              "3       CHEMBL1537858                   Cc1cc(NC(=O)CSc2ncnc3ccccc23)no1   \n",
              "4       CHEMBL1576855                     CCOc1ccccc1N1Cc2cc(C)c(C)cc2C1   \n",
              "..                ...                                                ...   \n",
              "90      CHEMBL3309990          Nc1nc2c3c(F)cccc3nc(Cc3ccc4c(c3)OCO4)n2n1   \n",
              "91      CHEMBL3309995        Nc1ccc2c(c1)nc(Cc1ccc3c(c1)OCO3)n1nc(N)nc21   \n",
              "92      CHEMBL3309997       OCCCNc1ccc2c(c1)nc(-c1ccc3c(c1)OCO3)n1ncnc21   \n",
              "93      CHEMBL3309998       Nc1nc2c3ccc(NCCO)cc3nc(Cc3ccc4c(c3)OCO4)n2n1   \n",
              "94      CHEMBL3310151  CN1CCN(c2cc(F)c3c(c2)nc(Cc2ccc4c(c2)OCO4)n2nc(...   \n",
              "\n",
              "   standard_value  \n",
              "0         10400.0  \n",
              "1        999000.0  \n",
              "2        999000.0  \n",
              "3        999000.0  \n",
              "4        999000.0  \n",
              "..            ...  \n",
              "90        10000.0  \n",
              "91        10000.0  \n",
              "92        10000.0  \n",
              "93        10000.0  \n",
              "94        10000.0  \n",
              "\n",
              "[95 rows x 3 columns]"
            ]
          },
          "execution_count": 85,
          "metadata": {},
          "output_type": "execute_result"
        }
      ],
      "source": [
        "selection = ['molecule_chembl_id', 'canonical_smiles', 'standard_value',]\n",
        "df3 = df2[selection]\n",
        "df3"
      ]
    },
    {
      "cell_type": "code",
      "execution_count": 86,
      "metadata": {
        "colab": {
          "base_uri": "https://localhost:8080/",
          "height": 415
        },
        "colab_type": "code",
        "id": "d8nV77oWdbq1",
        "outputId": "2df59721-3567-48bc-a732-a0b09fa8aa12"
      },
      "outputs": [
        {
          "data": {
            "text/html": [
              "<div>\n",
              "<style scoped>\n",
              "    .dataframe tbody tr th:only-of-type {\n",
              "        vertical-align: middle;\n",
              "    }\n",
              "\n",
              "    .dataframe tbody tr th {\n",
              "        vertical-align: top;\n",
              "    }\n",
              "\n",
              "    .dataframe thead th {\n",
              "        text-align: right;\n",
              "    }\n",
              "</style>\n",
              "<table border=\"1\" class=\"dataframe\">\n",
              "  <thead>\n",
              "    <tr style=\"text-align: right;\">\n",
              "      <th></th>\n",
              "      <th>molecule_chembl_id</th>\n",
              "      <th>canonical_smiles</th>\n",
              "      <th>standard_value</th>\n",
              "      <th>0</th>\n",
              "    </tr>\n",
              "  </thead>\n",
              "  <tbody>\n",
              "    <tr>\n",
              "      <th>0</th>\n",
              "      <td>CHEMBL470334</td>\n",
              "      <td>N#Cc1ccc(COC[C@H]2O[C@@H](n3c(NCc4ccc(Cl)c(Cl)...</td>\n",
              "      <td>10400.0</td>\n",
              "      <td>inactive</td>\n",
              "    </tr>\n",
              "    <tr>\n",
              "      <th>1</th>\n",
              "      <td>CHEMBL1358945</td>\n",
              "      <td>CCCc1cc(SCC(=O)Nc2c(C)n(C)n(-c3ccccc3)c2=O)n2c...</td>\n",
              "      <td>999000.0</td>\n",
              "      <td>inactive</td>\n",
              "    </tr>\n",
              "    <tr>\n",
              "      <th>2</th>\n",
              "      <td>CHEMBL3191473</td>\n",
              "      <td>O=C(/C=C(/NCCO)C(F)(F)F)c1ccc(Cl)cc1</td>\n",
              "      <td>999000.0</td>\n",
              "      <td>inactive</td>\n",
              "    </tr>\n",
              "    <tr>\n",
              "      <th>3</th>\n",
              "      <td>CHEMBL1537858</td>\n",
              "      <td>Cc1cc(NC(=O)CSc2ncnc3ccccc23)no1</td>\n",
              "      <td>999000.0</td>\n",
              "      <td>inactive</td>\n",
              "    </tr>\n",
              "    <tr>\n",
              "      <th>4</th>\n",
              "      <td>CHEMBL1576855</td>\n",
              "      <td>CCOc1ccccc1N1Cc2cc(C)c(C)cc2C1</td>\n",
              "      <td>999000.0</td>\n",
              "      <td>inactive</td>\n",
              "    </tr>\n",
              "    <tr>\n",
              "      <th>...</th>\n",
              "      <td>...</td>\n",
              "      <td>...</td>\n",
              "      <td>...</td>\n",
              "      <td>...</td>\n",
              "    </tr>\n",
              "    <tr>\n",
              "      <th>90</th>\n",
              "      <td>CHEMBL3309990</td>\n",
              "      <td>Nc1nc2c3c(F)cccc3nc(Cc3ccc4c(c3)OCO4)n2n1</td>\n",
              "      <td>10000.0</td>\n",
              "      <td>inactive</td>\n",
              "    </tr>\n",
              "    <tr>\n",
              "      <th>91</th>\n",
              "      <td>CHEMBL3309995</td>\n",
              "      <td>Nc1ccc2c(c1)nc(Cc1ccc3c(c1)OCO3)n1nc(N)nc21</td>\n",
              "      <td>10000.0</td>\n",
              "      <td>inactive</td>\n",
              "    </tr>\n",
              "    <tr>\n",
              "      <th>92</th>\n",
              "      <td>CHEMBL3309997</td>\n",
              "      <td>OCCCNc1ccc2c(c1)nc(-c1ccc3c(c1)OCO3)n1ncnc21</td>\n",
              "      <td>10000.0</td>\n",
              "      <td>inactive</td>\n",
              "    </tr>\n",
              "    <tr>\n",
              "      <th>93</th>\n",
              "      <td>CHEMBL3309998</td>\n",
              "      <td>Nc1nc2c3ccc(NCCO)cc3nc(Cc3ccc4c(c3)OCO4)n2n1</td>\n",
              "      <td>10000.0</td>\n",
              "      <td>inactive</td>\n",
              "    </tr>\n",
              "    <tr>\n",
              "      <th>94</th>\n",
              "      <td>CHEMBL3310151</td>\n",
              "      <td>CN1CCN(c2cc(F)c3c(c2)nc(Cc2ccc4c(c2)OCO4)n2nc(...</td>\n",
              "      <td>10000.0</td>\n",
              "      <td>inactive</td>\n",
              "    </tr>\n",
              "  </tbody>\n",
              "</table>\n",
              "<p>95 rows × 4 columns</p>\n",
              "</div>"
            ],
            "text/plain": [
              "   molecule_chembl_id                                   canonical_smiles  \\\n",
              "0        CHEMBL470334  N#Cc1ccc(COC[C@H]2O[C@@H](n3c(NCc4ccc(Cl)c(Cl)...   \n",
              "1       CHEMBL1358945  CCCc1cc(SCC(=O)Nc2c(C)n(C)n(-c3ccccc3)c2=O)n2c...   \n",
              "2       CHEMBL3191473               O=C(/C=C(/NCCO)C(F)(F)F)c1ccc(Cl)cc1   \n",
              "3       CHEMBL1537858                   Cc1cc(NC(=O)CSc2ncnc3ccccc23)no1   \n",
              "4       CHEMBL1576855                     CCOc1ccccc1N1Cc2cc(C)c(C)cc2C1   \n",
              "..                ...                                                ...   \n",
              "90      CHEMBL3309990          Nc1nc2c3c(F)cccc3nc(Cc3ccc4c(c3)OCO4)n2n1   \n",
              "91      CHEMBL3309995        Nc1ccc2c(c1)nc(Cc1ccc3c(c1)OCO3)n1nc(N)nc21   \n",
              "92      CHEMBL3309997       OCCCNc1ccc2c(c1)nc(-c1ccc3c(c1)OCO3)n1ncnc21   \n",
              "93      CHEMBL3309998       Nc1nc2c3ccc(NCCO)cc3nc(Cc3ccc4c(c3)OCO4)n2n1   \n",
              "94      CHEMBL3310151  CN1CCN(c2cc(F)c3c(c2)nc(Cc2ccc4c(c2)OCO4)n2nc(...   \n",
              "\n",
              "   standard_value         0  \n",
              "0         10400.0  inactive  \n",
              "1        999000.0  inactive  \n",
              "2        999000.0  inactive  \n",
              "3        999000.0  inactive  \n",
              "4        999000.0  inactive  \n",
              "..            ...       ...  \n",
              "90        10000.0  inactive  \n",
              "91        10000.0  inactive  \n",
              "92        10000.0  inactive  \n",
              "93        10000.0  inactive  \n",
              "94        10000.0  inactive  \n",
              "\n",
              "[95 rows x 4 columns]"
            ]
          },
          "execution_count": 86,
          "metadata": {},
          "output_type": "execute_result"
        }
      ],
      "source": [
        "pd.concat([df3,pd.Series(bioactivity_class)], axis=1)"
      ]
    },
    {
      "cell_type": "markdown",
      "metadata": {
        "colab_type": "text",
        "id": "9tlgyexWh7YJ"
      },
      "source": [
        "Saves dataframe to CSV file"
      ]
    },
    {
      "cell_type": "code",
      "execution_count": 104,
      "metadata": {
        "colab": {},
        "colab_type": "code",
        "id": "nSNia7suXstR"
      },
      "outputs": [],
      "source": [
        "df3.to_csv('bioactivity_preprocessed_data.csv', index=False)"
      ]
    },
    {
      "cell_type": "code",
      "execution_count": 105,
      "metadata": {
        "colab": {
          "base_uri": "https://localhost:8080/",
          "height": 104
        },
        "colab_type": "code",
        "id": "UuZf5-MEd-H5",
        "outputId": "19e008f4-267b-490b-9b2c-e5f88a47a48a"
      },
      "outputs": [
        {
          "name": "stdout",
          "output_type": "stream",
          "text": [
            "total 304\n",
            "-rw-r--r--@ 1 damaro  staff  85900 Feb  7 13:17 CDD_ML_Part_1_bioactivity_data.ipynb\n",
            "-rw-r--r--@ 1 damaro  staff   4168 Feb  7 13:44 ChEMBL.ipynb\n",
            "-rw-r--r--@ 1 damaro  staff  50622 Feb  7 14:59 bioactivity_data.csv\n",
            "-rw-r--r--@ 2 damaro  staff   7141 Feb  7 15:13 bioactivity_preprocessed_data.csv\n"
          ]
        }
      ],
      "source": [
        "! ls -l"
      ]
    },
    {
      "cell_type": "markdown",
      "metadata": {
        "colab_type": "text",
        "id": "ZywB5K_Dlawb"
      },
      "source": [
        "---"
      ]
    }
  ],
  "metadata": {
    "colab": {
      "collapsed_sections": [],
      "name": "CDD-ML-Part-1-bioactivity-data.ipynb",
      "provenance": []
    },
    "kernelspec": {
      "display_name": "Python 3",
      "name": "python3"
    },
    "language_info": {
      "codemirror_mode": {
        "name": "ipython",
        "version": 3
      },
      "file_extension": ".py",
      "mimetype": "text/x-python",
      "name": "python",
      "nbconvert_exporter": "python",
      "pygments_lexer": "ipython3",
      "version": "3.12.2"
    }
  },
  "nbformat": 4,
  "nbformat_minor": 0
}
